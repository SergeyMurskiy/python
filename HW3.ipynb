{
 "cells": [
  {
   "cell_type": "markdown",
   "metadata": {},
   "source": [
    "# Задача № 1\n",
    "\n",
    "Дан массив чисел, содержащий значение температуры за последний 10 дней (сгенерируйте массив чисел с плавающей точкой от 10 до 25).\n",
    "\n",
    "- Рассчитайте массив чисел, который содежит соответствующие значения в [Фаренгейтах](https://ru.wikipedia.org/wiki/%D0%93%D1%80%D0%B0%D0%B4%D1%83%D1%81_%D0%A4%D0%B0%D1%80%D0%B5%D0%BD%D0%B3%D0%B5%D0%B9%D1%82%D0%B0).\n",
    "\n",
    "- Рассчитайте массив чисел, который преобразует значения в Фаренгейтах в значения по [Кельвину](https://ru.wikipedia.org/wiki/%D0%9A%D0%B5%D0%BB%D1%8C%D0%B2%D0%B8%D0%BD)\n",
    "\n",
    "- Значения по Кельвину преобразуйте в градусы Цельсия и сравните полученный результат с исходным массивом (выведите разность)."
   ]
  },
  {
   "cell_type": "code",
   "execution_count": 1,
   "metadata": {},
   "outputs": [],
   "source": [
    "import random\n",
    "\n",
    "def temperature():\n",
    "    start_t = list()\n",
    "    for i in range(10):\n",
    "        start_t.append(random.uniform(10, 25))   \n",
    "        \n",
    "    ft = list(map(lambda x: 9 / 5 * x + 32, start_t))\n",
    "    ct = list(map(lambda x: 5 / 9 * (x - 32) + 273.15, ft))\n",
    "    end_t = list(map(lambda x: x - 273.15, ct))\n",
    "    \n",
    "    print(\"Исходный массив:\", start_t, \"\\n\")\n",
    "    print(\"Результат:\", end_t, \"\\n\")\n",
    "    print(\"Разность:\", list(map(lambda x, y: abs(x - y), end_t, start_t)))"
   ]
  },
  {
   "cell_type": "code",
   "execution_count": 2,
   "metadata": {},
   "outputs": [
    {
     "name": "stdout",
     "output_type": "stream",
     "text": [
      "Исходный массив: [11.843618038625118, 10.712272577729498, 18.093758073093667, 17.946864966177245, 12.121400458244619, 19.324060697557996, 20.05888027337182, 14.909334218672713, 21.20395663183816, 24.41122684924283] \n",
      "\n",
      "Результат: [11.843618038625095, 10.712272577729493, 18.09375807309368, 17.94686496617726, 12.121400458244636, 19.324060697558025, 20.058880273371813, 14.909334218672711, 21.20395663183814, 24.411226849242837] \n",
      "\n",
      "Разность: [2.3092638912203256e-14, 5.329070518200751e-15, 1.4210854715202004e-14, 1.4210854715202004e-14, 1.7763568394002505e-14, 2.842170943040401e-14, 7.105427357601002e-15, 1.7763568394002505e-15, 2.1316282072803006e-14, 7.105427357601002e-15]\n"
     ]
    }
   ],
   "source": [
    "temperature()"
   ]
  },
  {
   "cell_type": "markdown",
   "metadata": {},
   "source": [
    "# Задача № 2\n",
    "\n",
    "Дан словарь.\n",
    "Напишите функцию, которая возвращает словарь, состоящий из элементов исходного с ключами типа String.\n",
    "\n",
    "Например:  \n",
    "\n",
    "`Вход`: \n",
    "```python\n",
    "{'x':2, 4:'y', 4.0:'12', '3':'fdfs', 'a':9., b'pp':52}\n",
    "```\n",
    "\n",
    "`Выход`:\n",
    "```python\n",
    "{'x': 2, '3': 'fdfs', 'a': 9.0}\n",
    "```"
   ]
  },
  {
   "cell_type": "code",
   "execution_count": 3,
   "metadata": {},
   "outputs": [],
   "source": [
    "def dictionary_filter(dictionary):\n",
    "    print(dict(filter(lambda i: type(i[0]) == str, dictionary.items())))"
   ]
  },
  {
   "cell_type": "code",
   "execution_count": 4,
   "metadata": {},
   "outputs": [
    {
     "name": "stdout",
     "output_type": "stream",
     "text": [
      "{'x': 2, '3': 'fdfs', 'a': 9.0}\n"
     ]
    }
   ],
   "source": [
    "dictionary_filter({'x':2, 4:'y', 4.0:'12', '3':'fdfs', 'a':9., b'pp':52})"
   ]
  },
  {
   "cell_type": "markdown",
   "metadata": {},
   "source": [
    "# Задача № 3\n",
    "\n",
    "- Сгенерируйте два массива $a$ и $b$ одинаковой случайной длины $n$ (от 4 до 8 чисел) случайных чисел от 1 до 10\n",
    "- Посчитайте $\\prod\\limits_{i = 0}^{n-1} (a[i] + b[n-1-i])$, используя только функции __map, zip, filter, reduce__"
   ]
  },
  {
   "cell_type": "code",
   "execution_count": 8,
   "metadata": {},
   "outputs": [
    {
     "name": "stdout",
     "output_type": "stream",
     "text": [
      "[10, 6, 5, 5, 9]\n",
      "[5, 10, 5, 7, 6]\n",
      "436800\n"
     ]
    }
   ],
   "source": [
    "import random\n",
    "import functools\n",
    "\n",
    "a, b = list(), list()\n",
    "for i in range(random.randint(4, 8)):\n",
    "    a.append(random.randint(1, 10))\n",
    "    b.append(random.randint(1, 10))\n",
    "    \n",
    "print(a)\n",
    "print(b)\n",
    "print(functools.reduce(lambda x, y: x * y, list(map(lambda t: t[0] + t[1], list(zip(a, b[::-1]))))))"
   ]
  },
  {
   "cell_type": "code",
   "execution_count": null,
   "metadata": {},
   "outputs": [],
   "source": []
  }
 ],
 "metadata": {
  "kernelspec": {
   "display_name": "Python 3",
   "language": "python",
   "name": "python3"
  },
  "language_info": {
   "codemirror_mode": {
    "name": "ipython",
    "version": 3
   },
   "file_extension": ".py",
   "mimetype": "text/x-python",
   "name": "python",
   "nbconvert_exporter": "python",
   "pygments_lexer": "ipython3",
   "version": "3.6.7"
  }
 },
 "nbformat": 4,
 "nbformat_minor": 2
}
