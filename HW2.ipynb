{
 "cells": [
  {
   "cell_type": "markdown",
   "metadata": {},
   "source": [
    "## Задание № 0 (для знакомых с LaTeX)\n",
    "\n",
    "Наберите в LaTeX формулу (для дробей использовать &bsol;frac и &bsol;cfrac (для многоэтажных))\n",
    "\n",
    "![Я что-то нажал и всё пропало](https://a.radikal.ru/a06/1810/7a/228b571a4336.png)"
   ]
  },
  {
   "cell_type": "markdown",
   "metadata": {},
   "source": [
    "## Задание № 1\n",
    "\n",
    "Напишите функцию, которой на вход подаются \n",
    "- начальное целое значение ($a$, по умолчанию = 1000) \n",
    "- конечное целое значение ($b$, по умолчанию = 5000). \n",
    "\n",
    "Программа должна вывести список всех чисел между $a$ и $b$, в записи которых только чётные числа."
   ]
  },
  {
   "cell_type": "code",
   "execution_count": 41,
   "metadata": {},
   "outputs": [],
   "source": [
    "def get_numbers(a: int = 1000, b: int = 5000):\n",
    "    for i in range(a + 1, b):\n",
    "        if check_number(i):\n",
    "            print(i)\n",
    "            \n",
    "            \n",
    "def check_number(number):\n",
    "    while abs(number) != 0:\n",
    "        if number % 10 in [1, 3, 5, 7, 9]:\n",
    "            return False\n",
    "        number //= 10\n",
    "    return True"
   ]
  },
  {
   "cell_type": "code",
   "execution_count": 42,
   "metadata": {},
   "outputs": [
    {
     "name": "stdout",
     "output_type": "stream",
     "text": [
      "2\n",
      "4\n",
      "6\n",
      "8\n",
      "20\n",
      "22\n",
      "24\n",
      "26\n",
      "28\n",
      "40\n",
      "42\n",
      "44\n",
      "46\n",
      "48\n",
      "60\n",
      "62\n",
      "64\n",
      "66\n",
      "68\n",
      "80\n",
      "82\n",
      "84\n",
      "86\n",
      "88\n"
     ]
    }
   ],
   "source": [
    "get_numbers(0, 100)"
   ]
  },
  {
   "cell_type": "markdown",
   "metadata": {},
   "source": [
    "## Задание № 2\n",
    "\n",
    "Напишите функцию от двух аргументов $n$, $m$, которая выводит каждый $m$-е из первых $n$ строк треугольника Паскаля.\n",
    "\n",
    "Примеры вызовов: \n",
    "```python\n",
    "    pascal_triangle(10)\n",
    "```\n",
    "должен вывести первые 10 строк;\n",
    "\n",
    "\n",
    "```python\n",
    "    pascal_triangle(10, step = 3)\n",
    "```\n",
    "должен вывести 1, 4, 7, 10 строки.\n",
    "\n",
    "```python\n",
    "    pascal_triangle(10, 3)\n",
    "```\n",
    "Ошибка TypeError                                 \n",
    "\n",
    "__Подсказка__: может понадобится функция __zip__. Она позволяет итерироваться сразу по нескольким итерируемым объектам:\n",
    "\n",
    "```python\n",
    "a = [10, 20, 30, 40]\n",
    "b = ['a', 'b', 'c', 'd', 'e']\n",
    "c = [1.0, 3.0, 5.0, 8.0, 9.0, 11.0]\n",
    "for i, j, k in zip(a, b, c):\n",
    "     print(i, j, k)\n",
    "```"
   ]
  },
  {
   "cell_type": "code",
   "execution_count": 68,
   "metadata": {},
   "outputs": [],
   "source": [
    "import math\n",
    "\n",
    "def pascal_triangle(max_row, step = 1):\n",
    "    for n in range(0, max_row, step):    \n",
    "        result = list()\n",
    "        for k in range(n + 1):\n",
    "            result.append(int(math.factorial(n) / math.factorial(k) / math.factorial(n-k)))\n",
    "        print(*result)"
   ]
  },
  {
   "cell_type": "code",
   "execution_count": 70,
   "metadata": {},
   "outputs": [
    {
     "name": "stdout",
     "output_type": "stream",
     "text": [
      "1\n",
      "1 1\n",
      "1 2 1\n",
      "1 3 3 1\n",
      "1 4 6 4 1\n",
      "1 5 10 10 5 1\n",
      "1 6 15 20 15 6 1\n",
      "1 7 21 35 35 21 7 1\n",
      "1 8 28 56 70 56 28 8 1\n",
      "1 9 36 84 126 126 84 36 9 1\n"
     ]
    }
   ],
   "source": [
    "pascal_triangle(10, 3)"
   ]
  },
  {
   "cell_type": "markdown",
   "metadata": {},
   "source": [
    "## Задание № 3\n",
    "\n",
    "Напишите функцию, принимающую произвольное число произвольных аргументов и возвращающая словарь с парами \n",
    "```\n",
    "<название_типа данных>: <количество элементов этого типа данных среди переданных аргументов> \n",
    "```"
   ]
  },
  {
   "cell_type": "code",
   "execution_count": 79,
   "metadata": {},
   "outputs": [],
   "source": [
    "def type_counter(*args):\n",
    "    result = {}\n",
    "    for arg in args:\n",
    "        arg_type = type(arg)\n",
    "        if arg_type in result.keys():\n",
    "            result[arg_type] += 1\n",
    "        else:\n",
    "            result[arg_type] = 1\n",
    "    return result"
   ]
  },
  {
   "cell_type": "code",
   "execution_count": 80,
   "metadata": {},
   "outputs": [
    {
     "data": {
      "text/plain": [
       "{int: 4, str: 3, builtin_function_or_method: 1}"
      ]
     },
     "execution_count": 80,
     "metadata": {},
     "output_type": "execute_result"
    }
   ],
   "source": [
    "type_counter(1, 2, 3, 4, 'a', 'b', 'c')"
   ]
  },
  {
   "cell_type": "markdown",
   "metadata": {},
   "source": [
    "## Задание № 4\n",
    "Напишите собственную реализацию стандартных тригонометрических (и не только) функций - $cos, sin, ln, e$\n",
    "\n",
    "- Оформьте в ячейке markdown соответствующие формулы.\n",
    "- Напишите функции my_sin(), my_cos(), ... - аргументы - **углы**, не радианы\n",
    "- Проверьте, чтобы считалось и от комплексного аргумента\n",
    "- Сравните (удобным вам способом) полученные вами результаты с результатами стандартных методов "
   ]
  },
  {
   "cell_type": "code",
   "execution_count": null,
   "metadata": {},
   "outputs": [],
   "source": [
    "import math\n",
    "import cmath\n",
    "# перевод из градусов в радианы\n",
    "print(math.radians(180))\n",
    "# косинус\n",
    "print(math.cos(math.radians(60))) \n",
    "# cинус\n",
    "print(math.sin(math.radians(45)))  \n",
    "# и так далее"
   ]
  }
 ],
 "metadata": {
  "kernelspec": {
   "display_name": "Python 3",
   "language": "python",
   "name": "python3"
  },
  "language_info": {
   "codemirror_mode": {
    "name": "ipython",
    "version": 3
   },
   "file_extension": ".py",
   "mimetype": "text/x-python",
   "name": "python",
   "nbconvert_exporter": "python",
   "pygments_lexer": "ipython3",
   "version": "3.6.7"
  }
 },
 "nbformat": 4,
 "nbformat_minor": 2
}
