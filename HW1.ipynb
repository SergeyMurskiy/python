{
 "cells": [
  {
   "cell_type": "markdown",
   "metadata": {},
   "source": [
    "# Домашнее задание на структуры данных, управляющие конструкции и функции"
   ]
  },
  {
   "cell_type": "markdown",
   "metadata": {},
   "source": [
    "## Задание № 0\n",
    "\n",
    "Нарисуйте формулу (для дробей использовать &bsol;frac и &bsol;cfrac (для многоэтажных))\n",
    "\n",
    "![Я что-то нажал и всё пропало](lprs_example.png)"
   ]
  },
  {
   "cell_type": "markdown",
   "metadata": {},
   "source": [
    "## Задание № 1\n",
    "\n",
    "Выведите словарь, содержащий элементы вида \n",
    "```\n",
    "x: \"x \\* x + 1 = y\",\n",
    "```\n",
    "где x - число от 40 до 89, дающее остаток 4 при делении на 5; y = x \\* x + 1"
   ]
  },
  {
   "cell_type": "code",
   "execution_count": 1,
   "metadata": {},
   "outputs": [
    {
     "data": {
      "text/plain": [
       "{44: '44 * 44 + 1 = 1937',\n",
       " 49: '49 * 49 + 1 = 2402',\n",
       " 54: '54 * 54 + 1 = 2917',\n",
       " 59: '59 * 59 + 1 = 3482',\n",
       " 64: '64 * 64 + 1 = 4097',\n",
       " 69: '69 * 69 + 1 = 4762',\n",
       " 74: '74 * 74 + 1 = 5477',\n",
       " 79: '79 * 79 + 1 = 6242',\n",
       " 84: '84 * 84 + 1 = 7057',\n",
       " 89: '89 * 89 + 1 = 7922'}"
      ]
     },
     "execution_count": 1,
     "metadata": {},
     "output_type": "execute_result"
    }
   ],
   "source": [
    "d = {}\n",
    "for i in range(44, 90, 5):\n",
    "    y = i*i + 1\n",
    "    d[i] = str(i) + \" * \" + str(i) + \" + 1 = \" + str(y)\n",
    "d"
   ]
  },
  {
   "cell_type": "markdown",
   "metadata": {},
   "source": [
    "## Задание № 2\n",
    "\n",
    "Напишите 2 функции\n",
    "- **fib(n)**, которая высчитывает n-ое число Фиббоначчи,\n",
    "- **fib_lambda(n)**, которая высчитывает n-ое число Фиббоначчи lambda-выражением,\n",
    "\n",
    "где n - случайное число от 10 до 25.\n",
    "\n",
    "Вывод: строка \"n-ое число Фиббоначчи = \" + **fib(n)**\n",
    "Сравните скорость выполнения 2-х функция\n",
    "\n",
    "Подсказки:\n",
    "\n",
    "- Используйте динамическое программирование\n",
    "- Случайное число можно сгенерировать методом randint из пакета random (код предоставлен)"
   ]
  },
  {
   "cell_type": "code",
   "execution_count": 2,
   "metadata": {},
   "outputs": [
    {
     "name": "stdout",
     "output_type": "stream",
     "text": [
      "28.6 µs ± 3.83 µs per loop (mean ± std. dev. of 7 runs, 10000 loops each)\n",
      "1.66 µs ± 166 ns per loop (mean ± std. dev. of 7 runs, 1000000 loops each)\n",
      "10-ое число Фиббоначчи = 55\n"
     ]
    }
   ],
   "source": [
    "from random import randint\n",
    "\n",
    "n = randint(10, 26) # <- случайное целое число от 10 до 26 включительно\n",
    "\n",
    "fib_l = lambda n: fib_l(n - 1) + fib_l(n - 2) if n > 2 else 1\n",
    "\n",
    "def fib(n):\n",
    "    a = 0\n",
    "    b = 1\n",
    "    for __ in range(n):\n",
    "        a, b = b, a + b\n",
    "    return a\n",
    "\n",
    "%timeit f1 = fib_l(n)\n",
    "%timeit f2 = fib(n)\n",
    "\n",
    "print(str(n) + \"-ое число Фиббоначчи = \" + str(fib(n)))"
   ]
  },
  {
   "cell_type": "markdown",
   "metadata": {},
   "source": [
    "## Задание № 3\n",
    "\n",
    "0. Вспомните разложение функций $sin$, $cos$, $ln$, $e$ в ряд Тейлора\n",
    "1. Напишите функции, высчитывающие значение функции от аргумента $x$ через частичную сумму ряда до $n$-го члена, где $n$ - вход функции (значение по умолчанию = 30). Пример:\n",
    "```python\n",
    "    def my_cos(x, ...):\n",
    "        ...\n",
    "```\n",
    "2. Проверьте работу для комплексного аргумента\n",
    "3. (Необязательное) Запишите формулы в Markdown ячейке \n",
    "4. (Необязательное) Можете поиграться с точностью и посравнивать с реализациями из математических пакетов math, cmath"
   ]
  },
  {
   "cell_type": "code",
   "execution_count": 47,
   "metadata": {},
   "outputs": [],
   "source": [
    "import math\n",
    "import cmath\n",
    "\n",
    "def my_sin(x, n = 30):\n",
    "    res = 0\n",
    "    for i in range(n+1):\n",
    "        res += (-1) ** i * x ** (2 * i + 1) / math.factorial(2 * i + 1)\n",
    "    return res\n",
    "\n",
    "\n",
    "def my_cos(x, n = 30):\n",
    "    res = 0\n",
    "    for i in range(n+1):\n",
    "        res += (-1) ** i * x ** (2 * i) / math.factorial(2 * i)\n",
    "    return res\n",
    "\n",
    "\n",
    "def my_ln(x, n = 30):\n",
    "    res = 1\n",
    "    x -= 1\n",
    "    for i in range(1, n+1):\n",
    "        res += (-1) ** (i + 1) * (x ** i) / i\n",
    "    return res\n",
    "\n",
    "\n",
    "def my_e(x, n = 30):\n",
    "    res = 0\n",
    "    for i in range(n+1):\n",
    "        res += x ** i / math.factorial(i)\n",
    "    return res"
   ]
  },
  {
   "cell_type": "code",
   "execution_count": 48,
   "metadata": {},
   "outputs": [
    {
     "data": {
      "text/plain": [
       "(0.9701425001453318, 0.9701425001453319)"
      ]
     },
     "execution_count": 48,
     "metadata": {},
     "output_type": "execute_result"
    }
   ],
   "source": [
    "my_sin = my_sin(cmath.phase(complex(1, 4)))\n",
    "sin = math.sin(cmath.phase(complex(1, 4)))\n",
    "my_sin, sin"
   ]
  }
 ],
 "metadata": {
  "kernelspec": {
   "display_name": "Python 3",
   "language": "python",
   "name": "python3"
  },
  "language_info": {
   "codemirror_mode": {
    "name": "ipython",
    "version": 3
   },
   "file_extension": ".py",
   "mimetype": "text/x-python",
   "name": "python",
   "nbconvert_exporter": "python",
   "pygments_lexer": "ipython3",
   "version": "3.6.7"
  }
 },
 "nbformat": 4,
 "nbformat_minor": 2
}
